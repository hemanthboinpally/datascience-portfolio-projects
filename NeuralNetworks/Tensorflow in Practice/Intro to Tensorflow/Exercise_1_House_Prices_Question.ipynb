{
 "cells": [
  {
   "cell_type": "markdown",
   "metadata": {
    "colab_type": "text",
    "id": "mw2VBrBcgvGa"
   },
   "source": [
    "In this exercise you'll try to build a neural network that predicts the price of a house according to a simple formula.\n",
    "\n",
    "So, imagine if house pricing was as easy as a house costs 50k + 50k per bedroom, so that a 1 bedroom house costs 100k, a 2 bedroom house costs 150k etc.\n",
    "\n",
    "How would you create a neural network that learns this relationship so that it would predict a 7 bedroom house as costing close to 400k etc.\n",
    "\n",
    "Hint: Your network might work better if you scale the house price down. You don't have to give the answer 400...it might be better to create something that predicts the number 4, and then your answer is in the 'hundreds of thousands' etc."
   ]
  },
  {
   "cell_type": "code",
   "execution_count": 1,
   "metadata": {},
   "outputs": [],
   "source": [
    "import tensorflow as tf\n",
    "import numpy as np\n",
    "from tensorflow import keras"
   ]
  },
  {
   "cell_type": "code",
   "execution_count": 4,
   "metadata": {
    "colab": {},
    "colab_type": "code",
    "id": "PUNO2E6SeURH"
   },
   "outputs": [],
   "source": [
    "# GRADED FUNCTION: house_model\n",
    "def house_model(y_new):\n",
    "    xs = [2,1,3,4,5]\n",
    "    ys = [150,100,200,250,300]\n",
    "    model = keras.models.Sequential([keras.layers.Dense(1,input_shape=[1])])\n",
    "    model.compile(loss=keras.losses.mean_squared_error,optimizer=\"sgd\")\n",
    "    model.fit(xs,ys,epochs=10)\n",
    "    return model.predict(y_new)[0]"
   ]
  },
  {
   "cell_type": "code",
   "execution_count": 5,
   "metadata": {},
   "outputs": [
    {
     "name": "stdout",
     "output_type": "stream",
     "text": [
      "Epoch 1/10\n",
      "5/5 [==============================] - 3s 614ms/sample - loss: 44652.2734\n",
      "Epoch 2/10\n",
      "5/5 [==============================] - 0s 506us/sample - loss: 26105.6836\n",
      "Epoch 3/10\n",
      "5/5 [==============================] - 0s 453us/sample - loss: 15297.0781\n",
      "Epoch 4/10\n",
      "5/5 [==============================] - 0s 425us/sample - loss: 8997.7930\n",
      "Epoch 5/10\n",
      "5/5 [==============================] - 0s 362us/sample - loss: 5326.3174\n",
      "Epoch 6/10\n",
      "5/5 [==============================] - 0s 331us/sample - loss: 3186.2026\n",
      "Epoch 7/10\n",
      "5/5 [==============================] - 0s 354us/sample - loss: 1938.4949\n",
      "Epoch 8/10\n",
      "5/5 [==============================] - 0s 396us/sample - loss: 1210.8412\n",
      "Epoch 9/10\n",
      "5/5 [==============================] - 0s 16ms/sample - loss: 786.2521\n",
      "Epoch 10/10\n",
      "5/5 [==============================] - 0s 378us/sample - loss: 538.2787\n",
      "[401.64325]\n"
     ]
    }
   ],
   "source": [
    "prediction = house_model([7.0])\n",
    "print(prediction)"
   ]
  },
  {
   "cell_type": "code",
   "execution_count": 4,
   "metadata": {},
   "outputs": [],
   "source": [
    "# Now click the 'Submit Assignment' button above.\n",
    "# Once that is complete, please run the following two cells to save your work and close the notebook"
   ]
  },
  {
   "cell_type": "code",
   "execution_count": null,
   "metadata": {},
   "outputs": [],
   "source": [
    "%%javascript\n",
    "<!-- Save the notebook -->\n",
    "IPython.notebook.save_checkpoint();"
   ]
  },
  {
   "cell_type": "code",
   "execution_count": null,
   "metadata": {},
   "outputs": [],
   "source": [
    "%%javascript\n",
    "IPython.notebook.session.delete();\n",
    "window.onbeforeunload = null\n",
    "setTimeout(function() { window.close(); }, 1000);"
   ]
  }
 ],
 "metadata": {
  "coursera": {
   "course_slug": "introduction-tensorflow",
   "graded_item_id": "jRjw8",
   "launcher_item_id": "YoQKl"
  },
  "kernelspec": {
   "display_name": "Python 3",
   "language": "python",
   "name": "python3"
  },
  "language_info": {
   "codemirror_mode": {
    "name": "ipython",
    "version": 3
   },
   "file_extension": ".py",
   "mimetype": "text/x-python",
   "name": "python",
   "nbconvert_exporter": "python",
   "pygments_lexer": "ipython3",
   "version": "3.6.8"
  }
 },
 "nbformat": 4,
 "nbformat_minor": 2
}
