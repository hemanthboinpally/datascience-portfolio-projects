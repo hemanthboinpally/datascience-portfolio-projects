{
 "cells": [
  {
   "cell_type": "code",
   "execution_count": 5,
   "metadata": {
    "colab": {},
    "colab_type": "code",
    "id": "sMsjc691mhOS"
   },
   "outputs": [],
   "source": [
    "#path='mnist.npz'"
   ]
  },
  {
   "cell_type": "code",
   "execution_count": null,
   "metadata": {},
   "outputs": [],
   "source": [
    "import tensorflow as tf\n",
    "from os import path, getcwd, chdir\n",
    "\n",
    "# DO NOT CHANGE THE LINE BELOW. If you are developing in a local\n",
    "# environment, then grab mnist.npz from the Coursera Jupyter Notebook\n",
    "# and place it inside a local folder and edit the path to that location\n",
    "path = f\"{getcwd()}/../tmp2/mnist.npz\""
   ]
  },
  {
   "cell_type": "code",
   "execution_count": 7,
   "metadata": {
    "colab": {},
    "colab_type": "code",
    "id": "gycFlafzjyxs"
   },
   "outputs": [],
   "source": [
    "from tensorflow import keras\n",
    "import tensorflow as tf\n",
    "\n",
    "# GRADED FUNCTION: train_mnist_conv\n",
    "def train_mnist_conv():\n",
    "    # Please write your code only where you are indicated.\n",
    "    # please do not remove model fitting inline comments.\n",
    "    # YOUR CODE STARTS HERE\n",
    "    \n",
    "    class MyCallBack(keras.callbacks.Callback):\n",
    "        \n",
    "        def on_epoch_end(self,epoch,logs={}):\n",
    "            \n",
    "            if logs['acc'] > 0.998:\n",
    "                print(\"Reached 99.8% accuracy so cancelling training!\")\n",
    "                self.model.stop_training = True\n",
    "\n",
    "    callback = MyCallBack()\n",
    "    \n",
    "    # YOUR CODE ENDS HERE\n",
    "\n",
    "    mnist = tf.keras.datasets.mnist\n",
    "    (training_images, training_labels), (test_images, test_labels) = mnist.load_data(path=path)\n",
    "    \n",
    "    # YOUR CODE STARTS HERE\n",
    "    \n",
    "    training_images = training_images.reshape(60000,28,28,1) # Bring it back to shape\n",
    "    training_images = training_images / 255.0 # Normalize\n",
    "    test_images = test_images.reshape(10000,28,28,1)\n",
    "    test_images = test_images / 255.0\n",
    "    \n",
    "    # YOUR CODE ENDS HERE\n",
    "\n",
    "    model = tf.keras.models.Sequential([\n",
    "            # YOUR CODE STARTS HERE\n",
    "        \n",
    "        tf.keras.layers.Conv2D(32,(3,3),activation='relu',input_shape=(28,28,1)),\n",
    "        tf.keras.layers.MaxPooling2D(2,2),\n",
    "        tf.keras.layers.Flatten(),\n",
    "        tf.keras.layers.Dense(128,activation='relu'),\n",
    "        tf.keras.layers.Dense(10,activation='softmax')\n",
    "        \n",
    "            # YOUR CODE ENDS HERE\n",
    "    ])\n",
    "\n",
    "    model.compile(optimizer='adam', loss='sparse_categorical_crossentropy', metrics=['accuracy'])\n",
    "    # model fitting\n",
    "    history = model.fit(\n",
    "        # YOUR CODE STARTS HERE\n",
    "        \n",
    "        training_images,training_labels, epochs=20,callbacks=[callback]\n",
    "        \n",
    "        # YOUR CODE ENDS HERE\n",
    "    )\n",
    "    # model fitting\n",
    "    return history.epoch, history.history['acc'][-1]"
   ]
  },
  {
   "cell_type": "code",
   "execution_count": 8,
   "metadata": {
    "colab": {
     "base_uri": "https://localhost:8080/",
     "height": 340
    },
    "colab_type": "code",
    "id": "GlIG71cQke_U",
    "outputId": "89cee35f-3d8b-4902-8fa9-249d3bf414e0"
   },
   "outputs": [
    {
     "name": "stdout",
     "output_type": "stream",
     "text": [
      "Downloading data from https://storage.googleapis.com/tensorflow/tf-keras-datasets/mnist.npz\n",
      "11493376/11490434 [==============================] - 0s 0us/step\n",
      "Epoch 1/20\n",
      "1875/1875 [==============================] - 5s 2ms/step - loss: 0.1468 - accuracy: 0.9561\n",
      "Epoch 2/20\n",
      "1875/1875 [==============================] - 5s 2ms/step - loss: 0.0505 - accuracy: 0.9847\n",
      "Epoch 3/20\n",
      "1875/1875 [==============================] - 5s 2ms/step - loss: 0.0319 - accuracy: 0.9904\n",
      "Epoch 4/20\n",
      "1875/1875 [==============================] - 5s 2ms/step - loss: 0.0218 - accuracy: 0.9930\n",
      "Epoch 5/20\n",
      "1875/1875 [==============================] - 5s 2ms/step - loss: 0.0149 - accuracy: 0.9951\n",
      "Epoch 6/20\n",
      "1875/1875 [==============================] - 5s 2ms/step - loss: 0.0102 - accuracy: 0.9968\n",
      "Epoch 7/20\n",
      "1875/1875 [==============================] - 5s 2ms/step - loss: 0.0082 - accuracy: 0.9973\n",
      "Epoch 8/20\n",
      "1873/1875 [============================>.] - ETA: 0s - loss: 0.0054 - accuracy: 0.9983Reached 99.8% accuracy so cancelling training!\n",
      "1875/1875 [==============================] - 5s 2ms/step - loss: 0.0054 - accuracy: 0.9984\n"
     ]
    }
   ],
   "source": [
    "_, _ = train_mnist_conv()"
   ]
  }
 ],
 "metadata": {
  "accelerator": "GPU",
  "colab": {
   "collapsed_sections": [],
   "name": "Excercise3-OnGPU.ipynb",
   "provenance": []
  },
  "kernelspec": {
   "display_name": "Python 3",
   "language": "python",
   "name": "python3"
  },
  "language_info": {
   "codemirror_mode": {
    "name": "ipython",
    "version": 3
   },
   "file_extension": ".py",
   "mimetype": "text/x-python",
   "name": "python",
   "nbconvert_exporter": "python",
   "pygments_lexer": "ipython3",
   "version": "3.7.1"
  }
 },
 "nbformat": 4,
 "nbformat_minor": 1
}
